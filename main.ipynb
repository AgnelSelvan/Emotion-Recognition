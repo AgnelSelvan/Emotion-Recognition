{
 "cells": [
  {
   "cell_type": "markdown",
   "metadata": {},
   "source": [
    "# Capturing Face Video"
   ]
  },
  {
   "cell_type": "code",
   "execution_count": 5,
   "metadata": {},
   "outputs": [],
   "source": [
    "import cv2 \n",
    "import numpy as np\n",
    "\n",
    "cap = cv2.VideoCapture(0)\n",
    "fourcc = cv2.VideoWriter_fourcc(*'XVID')\n",
    "out = cv2.VideoWriter('out.avi', fourcc, 20.0, (640, 480))\n",
    "\n",
    "while True:\n",
    "    ret, frame = cap.read()\n",
    "    # gray = cv2.cvtColor(frame, cv2.COLOR_BGR2GRAY)\n",
    "    out.write(frame)\n",
    "    cv2.imshow(\"image\", frame)\n",
    "\n",
    "    if cv2.waitKey(1) == 13:\n",
    "        break\n",
    "        \n",
    "cap.release()\n",
    "out.release()\n",
    "cv2.destroyAllWindows()"
   ]
  },
  {
   "cell_type": "markdown",
   "metadata": {},
   "source": [
    "# Converting Video to images"
   ]
  },
  {
   "cell_type": "code",
   "execution_count": 11,
   "metadata": {},
   "outputs": [
    {
     "name": "stdout",
     "output_type": "stream",
     "text": [
      "Enter Your Name: Agnel\n"
     ]
    },
    {
     "ename": "error",
     "evalue": "OpenCV(4.1.2) /io/opencv/modules/imgcodecs/src/loadsave.cpp:715: error: (-215:Assertion failed) !_img.empty() in function 'imwrite'\n",
     "output_type": "error",
     "traceback": [
      "\u001b[0;31m---------------------------------------------------------------------------\u001b[0m",
      "\u001b[0;31merror\u001b[0m                                     Traceback (most recent call last)",
      "\u001b[0;32m<ipython-input-11-b60e12fa9355>\u001b[0m in \u001b[0;36m<module>\u001b[0;34m\u001b[0m\n\u001b[1;32m     18\u001b[0m \u001b[0;34m\u001b[0m\u001b[0m\n\u001b[1;32m     19\u001b[0m         \u001b[0mdirs\u001b[0m \u001b[0;34m=\u001b[0m \u001b[0;34m'./images/'\u001b[0m\u001b[0;34m+\u001b[0m\u001b[0mstr\u001b[0m\u001b[0;34m(\u001b[0m\u001b[0mname\u001b[0m\u001b[0;34m)\u001b[0m\u001b[0;34m+\u001b[0m\u001b[0;34m'/'\u001b[0m\u001b[0;34m+\u001b[0m\u001b[0mstr\u001b[0m\u001b[0;34m(\u001b[0m\u001b[0mcurrentFrame\u001b[0m\u001b[0;34m)\u001b[0m\u001b[0;34m+\u001b[0m\u001b[0;34m'.jpg'\u001b[0m\u001b[0;34m\u001b[0m\u001b[0;34m\u001b[0m\u001b[0m\n\u001b[0;32m---> 20\u001b[0;31m         \u001b[0mcv2\u001b[0m\u001b[0;34m.\u001b[0m\u001b[0mimwrite\u001b[0m\u001b[0;34m(\u001b[0m\u001b[0mdirs\u001b[0m\u001b[0;34m,\u001b[0m \u001b[0mframe\u001b[0m\u001b[0;34m)\u001b[0m\u001b[0;34m\u001b[0m\u001b[0;34m\u001b[0m\u001b[0m\n\u001b[0m\u001b[1;32m     21\u001b[0m \u001b[0;34m\u001b[0m\u001b[0m\n\u001b[1;32m     22\u001b[0m         \u001b[0mcurrentFrame\u001b[0m \u001b[0;34m+=\u001b[0m \u001b[0;36m1\u001b[0m\u001b[0;34m\u001b[0m\u001b[0;34m\u001b[0m\u001b[0m\n",
      "\u001b[0;31merror\u001b[0m: OpenCV(4.1.2) /io/opencv/modules/imgcodecs/src/loadsave.cpp:715: error: (-215:Assertion failed) !_img.empty() in function 'imwrite'\n"
     ]
    }
   ],
   "source": [
    "import cv2\n",
    "import numpy as np\n",
    "import os\n",
    "\n",
    "cap = cv2.VideoCapture('./out.avi')\n",
    "\n",
    "currentFrame = 0\n",
    "name = input(\"Enter Your Name: \")\n",
    "dirs = './images/'+str(name)\n",
    "# print(dir)\n",
    "if os.path.exists(dirs):\n",
    "    pass\n",
    "else:\n",
    "    os.makedirs(dirs)\n",
    "if name:\n",
    "    while True:\n",
    "        ret, frame = cap.read()\n",
    "\n",
    "        dirs = './images/'+str(name)+'/'+str(currentFrame)+'.jpg'\n",
    "        cv2.imwrite(dirs, frame)\n",
    "\n",
    "        currentFrame += 1\n",
    "        if cv2.waitKey(1) == 13:\n",
    "            break\n",
    "        \n",
    "cap.release()\n",
    "cv2.destroyAllWindows()"
   ]
  },
  {
   "cell_type": "code",
   "execution_count": 20,
   "metadata": {},
   "outputs": [],
   "source": [
    "os.remove('./out.avi')"
   ]
  },
  {
   "cell_type": "markdown",
   "metadata": {},
   "source": [
    "# Crop the dataset images"
   ]
  },
  {
   "cell_type": "code",
   "execution_count": 12,
   "metadata": {},
   "outputs": [
    {
     "name": "stdout",
     "output_type": "stream",
     "text": [
      "/media/agnel/New Volume/ML/Emotion and Gender Detector/PersonalFace /images/Agnel/0.jpg\n",
      "/media/agnel/New Volume/ML/Emotion and Gender Detector/PersonalFace /images/Agnel/1.jpg\n",
      "/media/agnel/New Volume/ML/Emotion and Gender Detector/PersonalFace /images/Agnel/2.jpg\n",
      "/media/agnel/New Volume/ML/Emotion and Gender Detector/PersonalFace /images/Agnel/3.jpg\n",
      "/media/agnel/New Volume/ML/Emotion and Gender Detector/PersonalFace /images/Agnel/4.jpg\n",
      "/media/agnel/New Volume/ML/Emotion and Gender Detector/PersonalFace /images/Agnel/5.jpg\n",
      "/media/agnel/New Volume/ML/Emotion and Gender Detector/PersonalFace /images/Agnel/6.jpg\n",
      "/media/agnel/New Volume/ML/Emotion and Gender Detector/PersonalFace /images/Agnel/7.jpg\n",
      "/media/agnel/New Volume/ML/Emotion and Gender Detector/PersonalFace /images/Agnel/8.jpg\n",
      "/media/agnel/New Volume/ML/Emotion and Gender Detector/PersonalFace /images/Nesan/9.jpg\n",
      "/media/agnel/New Volume/ML/Emotion and Gender Detector/PersonalFace /images/Nesan/10.jpg\n",
      "/media/agnel/New Volume/ML/Emotion and Gender Detector/PersonalFace /images/Nesan/11.jpg\n",
      "/media/agnel/New Volume/ML/Emotion and Gender Detector/PersonalFace /images/Nesan/12.jpg\n",
      "/media/agnel/New Volume/ML/Emotion and Gender Detector/PersonalFace /images/Nesan/13.jpg\n",
      "/media/agnel/New Volume/ML/Emotion and Gender Detector/PersonalFace /images/Nesan/14.jpg\n",
      "/media/agnel/New Volume/ML/Emotion and Gender Detector/PersonalFace /images/Nesan/15.jpg\n",
      "/media/agnel/New Volume/ML/Emotion and Gender Detector/PersonalFace /images/Nesan/16.jpg\n",
      "/media/agnel/New Volume/ML/Emotion and Gender Detector/PersonalFace /images/Nesan/17.jpg\n",
      "/media/agnel/New Volume/ML/Emotion and Gender Detector/PersonalFace /images/Nesan/18.jpg\n",
      "/media/agnel/New Volume/ML/Emotion and Gender Detector/PersonalFace /images/Nesan/19.jpg\n",
      "/media/agnel/New Volume/ML/Emotion and Gender Detector/PersonalFace /images/Nesan/20.jpg\n",
      "/media/agnel/New Volume/ML/Emotion and Gender Detector/PersonalFace /images/Nesan/21.jpg\n",
      "/media/agnel/New Volume/ML/Emotion and Gender Detector/PersonalFace /images/Nesan/22.jpg\n",
      "/media/agnel/New Volume/ML/Emotion and Gender Detector/PersonalFace /images/Nesan/23.jpg\n",
      "/media/agnel/New Volume/ML/Emotion and Gender Detector/PersonalFace /images/Nesan/24.jpg\n",
      "/media/agnel/New Volume/ML/Emotion and Gender Detector/PersonalFace /images/Nesan/25.jpg\n",
      "/media/agnel/New Volume/ML/Emotion and Gender Detector/PersonalFace /images/Nesan/26.jpg\n"
     ]
    }
   ],
   "source": [
    "import os\n",
    "from setuptools import setup\n",
    "\n",
    "face_cascade = cv2.CascadeClassifier('/home/agnel/Agnel/files/HaarCascade/haarcascade_profileface.xml')\n",
    "BASE_DIR = os.path.dirname(os.path.abspath('__file__'))\n",
    "# print(BASE_DIR)\n",
    "img_dir = os.path.join(BASE_DIR, \"images\")\n",
    "# print(img_dir)\n",
    "\n",
    "##Loading images and cropping the image\n",
    "i = 0\n",
    "for root, dirs, files in os.walk(img_dir):\n",
    "    for file in files:\n",
    "        if file.endswith(\"png\") or file.endswith(\"jpg\"):\n",
    "            path = os.path.join(root, file)\n",
    "            img = cv2.imread(path)\n",
    "            img = cv2.resize(img, (280, 280))\n",
    "            gray = cv2.cvtColor(img, cv2.COLOR_BGR2GRAY)\n",
    "            faces = face_cascade.detectMultiScale(gray, 1.3, 5)\n",
    "            for (x, y, w, h) in faces:\n",
    "                    img_name = str(root)+\"/\"+str(i)+\".jpg\"\n",
    "                    print(img_name)\n",
    "                    roi_color = img[y:y+h+20, x:x+w+20]\n",
    "                    cv2.imwrite(img_name, roi_color)\n",
    "                    #cv2.imshow(\"Frame\",roi_color)\n",
    "                    i += 1\n",
    "            cv2.waitKey(0)\n",
    "cv2.destroyAllWindows()"
   ]
  },
  {
   "cell_type": "markdown",
   "metadata": {},
   "source": [
    "# Train the image dataset"
   ]
  },
  {
   "cell_type": "code",
   "execution_count": 8,
   "metadata": {},
   "outputs": [],
   "source": [
    "import os\n",
    "from setuptools import setup\n",
    "\n",
    "face_cascade = cv2.CascadeClassifier('/home/agnel/Agnel/files/HaarCascade/haarcascade_profileface.xml')\n",
    "BASE_DIR = os.path.dirname(os.path.abspath('__file__'))\n",
    "# print(BASE_DIR)\n",
    "img_dir = os.path.join(BASE_DIR, \"images\")\n",
    "# print(img_dir)\n",
    "\n",
    "##Loading images and cropping the image\n",
    "# i = 0\n",
    "# for root, dirs, files in os.walk(img_dir):\n",
    "#     for file in files:\n",
    "#         if file.endswith(\"png\") or file.endswith(\"jpg\"):\n",
    "#             path = os.path.join(root, file)\n",
    "#             img = cv2.imread(path)\n",
    "#             img = cv2.resize(img, (280, 280))\n",
    "#             gray = cv2.cvtColor(img, cv2.COLOR_BGR2GRAY)\n",
    "#             faces = face_cascade.detectMultiScale(gray, 1.3, 5)\n",
    "#             for (x, y, w, h) in faces:\n",
    "#                     img_name = str(i)+\".png\"\n",
    "#                     roi_color = img[y:y+h+20, x:x+w+20]\n",
    "#                     cv2.imwrite(img_name, roi_color)\n",
    "#                     #cv2.imshow(\"Frame\",roi_color)\n",
    "#                     i += 1\n",
    "#             cv2.waitKey(0)\n",
    "# cv2.destroyAllWindows()\n",
    "\n",
    "##Training image from cropped image\n",
    "from PIL import Image\n",
    "import numpy as np\n",
    "\n",
    "current_ids = 0\n",
    "label_ids = {}\n",
    "x_train = []\n",
    "y_labels = []\n",
    "for root, dirs, files in os.walk(img_dir):\n",
    "    for file in files:\n",
    "        if file.endswith(\"png\") or file.endswith(\"jpg\"):\n",
    "            path = os.path.join(root, file)\n",
    "            label = os.path.basename(root).replace(' ', \"-\")\n",
    "            if label in label_ids:\n",
    "                pass\n",
    "            else:\n",
    "                label_ids[label] = current_ids\n",
    "                current_ids += 1\n",
    "            id_ = label_ids[label]\n",
    "            #print(label_ids)\n",
    "            pil_image = Image.open(path).convert(\"L\")\n",
    "            image_array = np.array(pil_image, 'uint8')\n",
    "            #print(image_array)\n",
    "            faces = face_cascade.detectMultiScale(image_array, 1.5, 5)\n",
    "            \n",
    "            for(x, y, w, h) in faces:\n",
    "                roi = image_array[y:y+h, x:x+w]\n",
    "                x_train.append(roi)\n",
    "                y_labels.append(id_)\n",
    "\n",
    "# print(x_train)\n",
    "# print(y_labels)\n",
    "\n",
    "#############Saving the model and label using pickle ##############\n",
    "import pickle\n",
    "\n",
    "recognizer = cv2.face.LBPHFaceRecognizer_create()\n",
    "\n",
    "with open(\"./trained model/label.pickle\", \"wb\") as f:\n",
    "    pickle.dump(label_ids, f)\n",
    "    \n",
    "recognizer.train(x_train, np.array(y_labels))\n",
    "recognizer.save(\"./trained model/trainner.yml\")\n"
   ]
  },
  {
   "cell_type": "markdown",
   "metadata": {},
   "source": [
    "# Face Detection "
   ]
  },
  {
   "cell_type": "code",
   "execution_count": 9,
   "metadata": {},
   "outputs": [],
   "source": [
    "import numpy as np\n",
    "import cv2\n",
    "\n",
    "face_cascade = cv2.CascadeClassifier('/home/agnel/Agnel/files/HaarCascade/haarcascade_frontalface_alt2.xml')\n",
    "\n",
    "cap = cv2.VideoCapture(0)\n",
    "i = 0\n",
    "while True:\n",
    "    ret, frame = cap.read()\n",
    "    frame = cv2.flip(frame, 1)\n",
    "    gray = cv2.cvtColor(frame, cv2.COLOR_BGR2GRAY)\n",
    "    faces = face_cascade.detectMultiScale(gray, 1.3, 5)\n",
    "    \n",
    "    for (x, y, w, h) in faces:\n",
    "        #print(x, y, w, h)\n",
    "        img_item = str(i)+\".png\"\n",
    "        roi_gray = gray[y:y+h, x:x+w]\n",
    "        roi_color = frame[y:y+h, x:x+w]\n",
    "        cv2.imwrite(img_item, roi_color)\n",
    "        \n",
    "        color= (0, 0, 255) #BGR\n",
    "        stroke = 2\n",
    "        width = x + w\n",
    "        height = y + h\n",
    "        cv2.rectangle(frame, (x - 10, y), (width + 10, height + 20), color, stroke)\n",
    "    \n",
    "    cv2.imshow('frame', frame)\n",
    "    if cv2.waitKey(1) == 13:\n",
    "        break\n",
    "    \n",
    "cap.release()\n",
    "cv2.destroyAllWindows()\n",
    "    "
   ]
  },
  {
   "cell_type": "markdown",
   "metadata": {},
   "source": [
    "# Personal Face Detection "
   ]
  },
  {
   "cell_type": "code",
   "execution_count": 2,
   "metadata": {},
   "outputs": [],
   "source": [
    "import pickle\n",
    "import numpy as np\n",
    "import cv2\n",
    "\n",
    "face_cascade = cv2.CascadeClassifier('/home/agnel/Agnel/files/HaarCascade/haarcascade_profileface.xml')\n",
    "eye_cascade = cv2.CascadeClassifier('/home/agnel/Agnel/files/HaarCascade/haarcascade_eye.xml')\n",
    "smile_cascade = cv2.CascadeClassifier('/home/agnel/Agnel/files/HaarCascade/haarcascade_smile.xml')\n",
    "recognizer = cv2.face.LBPHFaceRecognizer_create()\n",
    "recognizer.read(\"./trained model/trainner.yml\")\n",
    "\n",
    "labels = {}\n",
    "with open('./trained model/label.pickle', 'rb') as f:\n",
    "    og_labels = pickle.load(f)\n",
    "    labels = {v:k for k, v in og_labels.items()}\n",
    "\n",
    "cap = cv2.VideoCapture(0)\n",
    "i = 0\n",
    "stroke = 2\n",
    "while True:\n",
    "    ret, frame = cap.read()\n",
    "    frame = cv2.flip(frame, 1)\n",
    "    gray = cv2.cvtColor(frame, cv2.COLOR_BGR2GRAY)\n",
    "    faces = face_cascade.detectMultiScale(gray, 1.3, 5)\n",
    "    \n",
    "    for (x, y, w, h) in faces:\n",
    "        #print(x, y, w, h)\n",
    "        img_item = str(i)+\".png\"\n",
    "        roi_gray = gray[y:y+h, x:x+w]\n",
    "        roi_color = frame[y:y+h, x:x+w]\n",
    "        \n",
    "        id_, conf = recognizer.predict(roi_gray)\n",
    "        #print(labels[id_])\n",
    "        cv2.putText(frame, labels[id_], (x, y), cv2.FONT_HERSHEY_COMPLEX, 1, (255, 255, 255), stroke)\n",
    "                \n",
    "        color= (0, 0, 255) #BGR\n",
    "        stroke = 2\n",
    "        width = x + w\n",
    "        height = y + h\n",
    "        cv2.rectangle(frame, (x - 10, y), (width + 10, height + 20), color, stroke)\n",
    "        eyes = eye_cascade.detectMultiScale(roi_gray)\n",
    "        #for (ex, ey, ew, eh) in eyes:\n",
    "        #   cv2.rectangle(roi_color, (ex, ey), (ex+ew, ey+eh), (0, 255, 0))\n",
    "        # smile = smile_cascade.detectMultiScale(roi_gray)\n",
    "        # for (sx, sy, sw, sh) in smile:\n",
    "        #     cv2.rectangle(roi_color, (sx, sy), (sx+sw, sy+sh), (255, 0, 0))\n",
    "    \n",
    "    cv2.imshow('frame', frame)\n",
    "    if cv2.waitKey(1) == 13:\n",
    "        break\n",
    "    \n",
    "cap.release()\n",
    "cv2.destroyAllWindows()\n",
    "\n"
   ]
  },
  {
   "cell_type": "code",
   "execution_count": null,
   "metadata": {},
   "outputs": [],
   "source": []
  }
 ],
 "metadata": {
  "kernelspec": {
   "display_name": "Python 3",
   "language": "python",
   "name": "python3"
  },
  "language_info": {
   "codemirror_mode": {
    "name": "ipython",
    "version": 3
   },
   "file_extension": ".py",
   "mimetype": "text/x-python",
   "name": "python",
   "nbconvert_exporter": "python",
   "pygments_lexer": "ipython3",
   "version": "3.7.9"
  }
 },
 "nbformat": 4,
 "nbformat_minor": 4
}
